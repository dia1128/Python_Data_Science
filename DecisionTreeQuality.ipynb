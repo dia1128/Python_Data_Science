{
 "cells": [
  {
   "cell_type": "markdown",
   "metadata": {},
   "source": [
    "# Evaluate the quality of the three splitting and report the best one. The output qualities of the splitting will be included in table "
   ]
  },
  {
   "cell_type": "code",
   "execution_count": 4,
   "metadata": {},
   "outputs": [
    {
     "data": {
      "image/png": "[encoded data removed]",
      "text/plain": [
       "<IPython.core.display.Image object>"
      ]
     },
     "execution_count": 4,
     "metadata": {},
     "output_type": "execute_result"
    }
   ],
   "source": [
    "from IPython.display import Image\n",
    "Image(\"img.png\")"
   ]
  },
  {
   "cell_type": "code",
   "execution_count": null,
   "metadata": {},
   "outputs": [],
   "source": [
    "from math import log\n",
    "import numpy as np\n",
    "import pandas as pd\n",
    "Gini_array = []\n",
    "Entropy_array = []\n",
    "Misclass_array = []\n",
    "\n",
    "def calcpercent(node):\n",
    "    nodesum = sum(node.values())\n",
    "    percents = {c:v/nodesum for c,v in node.items()}\n",
    "    return nodesum, percents\n",
    "\n",
    "# giniscore calculates the score for a node using above formula\n",
    "def giniscore(node):\n",
    "    nodesum, percents = calcpercent(node)\n",
    "    score = round(1 - sum([i**2 for i in percents.values()]), 2)\n",
    "    return score\n",
    "\n",
    "# entropy score calculates the score for a node using above formula\n",
    "def entropyscore(node):\n",
    "    nodesum, percents = calcpercent(node)\n",
    "    score = round(sum([-i*log(i,2) for i in percents.values()]), 2)\n",
    "    return score\n",
    "\n",
    "#misclass Misclass_a_left = 1 - max(3/12, 9/12)\n",
    "def misclass(node):\n",
    "    nodesum, percents = calcpercent(node)\n",
    "    score = round(1 - max([i for i in percents.values()]), 2)\n",
    "    return score\n",
    "\n",
    "def infogain(parent, children, criterion):\n",
    "    score = {'gini': giniscore, 'entropy': entropyscore, 'misclass' : misclass}\n",
    "    metric = score[criterion]\n",
    "    parentscore = metric(parent)\n",
    "    parentsum = sum(parent.values())\n",
    "    weighted_child_score = sum([metric(i)*sum(i.values())/parentsum  for i in children])\n",
    "    gain = round((parentscore - weighted_child_score),2)\n",
    "    return gain\n",
    "#a\n",
    "parent_node = {'C1': 20, 'C2':10}\n",
    "node1 = {'C1':3, 'Blue':9}\n",
    "node2 = {'C1':17, 'Blue':1}\n",
    "gini_gain = infogain(parent_node, [node1, node2], 'gini')\n",
    "entropy_gain = infogain(parent_node, [node1, node2], 'entropy')\n",
    "misclass_gain = infogain(parent_node, [node1, node2], 'misclass')\n",
    "Gini_array.append(gini_gain)\n",
    "Entropy_array.append(entropy_gain)\n",
    "Misclass_array.append(misclass_gain)\n",
    "\n",
    "#b\n",
    "parent_node = {'C1': 20, 'C2':10}\n",
    "node1 = {'C1':10, 'Blue':5}\n",
    "node2 = {'C1':10, 'Blue':5}\n",
    "gini_gain = infogain(parent_node, [node1, node2], 'gini')\n",
    "entropy_gain = infogain(parent_node, [node1, node2], 'entropy')\n",
    "misclass_gain = infogain(parent_node, [node1, node2], 'misclass')\n",
    "Gini_array.append(gini_gain)\n",
    "Entropy_array.append(entropy_gain)\n",
    "Misclass_array.append(misclass_gain)\n",
    "\n",
    "#c\n",
    "parent_node = {'C1': 20, 'C2':10}\n",
    "node1 = {'C1':19, 'Blue':2}\n",
    "node2 = {'C1':1, 'Blue':8}\n",
    "gini_gain = infogain(parent_node, [node1, node2], 'gini')\n",
    "entropy_gain = infogain(parent_node, [node1, node2], 'entropy')\n",
    "misclass_gain = infogain(parent_node, [node1, node2], 'misclass')\n",
    "Gini_array.append(gini_gain)\n",
    "Entropy_array.append(entropy_gain)\n",
    "Misclass_array.append(misclass_gain)"
   ]
  },
  {
   "cell_type": "code",
   "execution_count": 2,
   "metadata": {},
   "outputs": [
    {
     "data": {
      "text/html": [
       "<div>\n",
       "<style scoped>\n",
       "    .dataframe tbody tr th:only-of-type {\n",
       "        vertical-align: middle;\n",
       "    }\n",
       "\n",
       "    .dataframe tbody tr th {\n",
       "        vertical-align: top;\n",
       "    }\n",
       "\n",
       "    .dataframe thead tr th {\n",
       "        text-align: left;\n",
       "    }\n",
       "</style>\n",
       "<table border=\"1\" class=\"dataframe\">\n",
       "  <thead>\n",
       "    <tr>\n",
       "      <th></th>\n",
       "      <th>a</th>\n",
       "      <th>b</th>\n",
       "      <th>c</th>\n",
       "    </tr>\n",
       "  </thead>\n",
       "  <tbody>\n",
       "    <tr>\n",
       "      <th>Gini Index</th>\n",
       "      <td>0.23</td>\n",
       "      <td>0.0</td>\n",
       "      <td>0.26</td>\n",
       "    </tr>\n",
       "    <tr>\n",
       "      <th>Entropy</th>\n",
       "      <td>0.41</td>\n",
       "      <td>0.0</td>\n",
       "      <td>0.45</td>\n",
       "    </tr>\n",
       "    <tr>\n",
       "      <th>Misclass Error</th>\n",
       "      <td>0.19</td>\n",
       "      <td>0.0</td>\n",
       "      <td>0.23</td>\n",
       "    </tr>\n",
       "  </tbody>\n",
       "</table>\n",
       "</div>"
      ],
      "text/plain": [
       "                   a    b     c\n",
       "Gini Index      0.23  0.0  0.26\n",
       "Entropy         0.41  0.0  0.45\n",
       "Misclass Error  0.19  0.0  0.23"
      ]
     },
     "execution_count": 2,
     "metadata": {},
     "output_type": "execute_result"
    }
   ],
   "source": [
    "values = np.array([Gini_array,Entropy_array,Misclass_array])\n",
    "arrays = [np.array([\"a\", \"b\",\"c\"])]\n",
    "df = pd.DataFrame(values, index=[\"Gini Index\", \"Entropy\", \"Misclass Error\"], columns=arrays)\n",
    "df"
   ]
  },
  {
   "cell_type": "markdown",
   "metadata": {},
   "source": [
    "The best choice for Splitting is c as the impurity calculated by Gini is the smallest and\n",
    "Gain calculated by Entropy and Misclass is the highest in c"
   ]
  }
 ],
 "metadata": {
  "kernelspec": {
   "display_name": "Python 3",
   "language": "python",
   "name": "python3"
  },
  "language_info": {
   "codemirror_mode": {
    "name": "ipython",
    "version": 3
   },
   "file_extension": ".py",
   "mimetype": "text/x-python",
   "name": "python",
   "nbconvert_exporter": "python",
   "pygments_lexer": "ipython3",
   "version": "3.8.5"
  }
 },
 "nbformat": 4,
 "nbformat_minor": 4
}
